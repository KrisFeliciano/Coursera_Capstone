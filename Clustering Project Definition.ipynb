{
 "cells": [
  {
   "cell_type": "markdown",
   "metadata": {
    "collapsed": true
   },
   "source": [
    "### My Data Science Clustering Project\n",
    "##### By K. Feliciano"
   ]
  },
  {
   "cell_type": "markdown",
   "metadata": {},
   "source": [
    "### Business Problem:"
   ]
  },
  {
   "cell_type": "markdown",
   "metadata": {},
   "source": [
    "##### \"Which cities in Australia wold be a good place to move to, where housing is reasonable and the area provides more options for dining?\""
   ]
  },
  {
   "cell_type": "markdown",
   "metadata": {},
   "source": [
    "My client is interested in retiring and plans to move to Australia with his family, as a \"foody\"; he wants want to know which city in Australia will is the best place to move to where he can purchase a house and provides options for dining.\n",
    "\n",
    "He will looking at the following data to decide which city to choose:  \n",
    "* Average Housing price in the city  \n",
    "* Types Restaurants in the city"
   ]
  },
  {
   "cell_type": "markdown",
   "metadata": {},
   "source": [
    "The category of the venues that he's interested in are\n",
    "\n",
    "* Arts and Entertainment  \n",
    "* Shops & Service  \n",
    "* Coffee Shops  \n",
    "* Malls  \n",
    "* Food  \n",
    "* Pubs  \n",
    "* Outdoors & Recreation  \n",
    "* Professional & Other places  \n",
    "* Residence  \n",
    "* Travel & Transport  "
   ]
  },
  {
   "cell_type": "markdown",
   "metadata": {},
   "source": [
    "### Data and Data Sources: "
   ]
  },
  {
   "cell_type": "markdown",
   "metadata": {},
   "source": [
    "#### House prices in cities in Australia  \n",
    "https://www.livingin-australia.com/australian-house-prices/\n",
    "#### FourSquare API to get the following details\n",
    "List of all venues in each city  \n",
    "List of all venues in each locality in the selected city"
   ]
  },
  {
   "cell_type": "markdown",
   "metadata": {},
   "source": [
    "### Tools:"
   ]
  },
  {
   "cell_type": "markdown",
   "metadata": {},
   "source": [
    "* Foursquare API\n",
    "* IBM Watson Account\n",
    "* Jupiter Notebooks"
   ]
  },
  {
   "cell_type": "markdown",
   "metadata": {},
   "source": [
    "### Methodology:"
   ]
  },
  {
   "cell_type": "markdown",
   "metadata": {},
   "source": [
    "* The web page was scrapped using the BeautifulSoup library to build a pandas dataframe listing the city,average house price and percent of change \n",
    "* The Foursquare API will be used to query each of the city to get {venue names,venue category,venue latitude and longitude} within the given radius. The resulting locations for each venue were tabulated and stored in a new dataframe and visualised using Folium.  \n",
    "* The KMeans Algorithm is used for clustering clustering was applied to the selected categories latitudes and longitudes and calculated the weightage for each cluster"
   ]
  },
  {
   "cell_type": "code",
   "execution_count": null,
   "metadata": {},
   "outputs": [],
   "source": []
  }
 ],
 "metadata": {
  "kernelspec": {
   "display_name": "Python 3.5",
   "language": "python",
   "name": "python3"
  },
  "language_info": {
   "codemirror_mode": {
    "name": "ipython",
    "version": 3
   },
   "file_extension": ".py",
   "mimetype": "text/x-python",
   "name": "python",
   "nbconvert_exporter": "python",
   "pygments_lexer": "ipython3",
   "version": "3.5.5"
  }
 },
 "nbformat": 4,
 "nbformat_minor": 1
}
